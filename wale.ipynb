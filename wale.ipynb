{
 "cells": [
  {
   "cell_type": "code",
   "execution_count": 1,
   "id": "4db9784e",
   "metadata": {},
   "outputs": [],
   "source": [
    "import pandas as pd"
   ]
  },
  {
   "cell_type": "code",
   "execution_count": 2,
   "id": "ec54964d",
   "metadata": {},
   "outputs": [],
   "source": [
    "data = pd.read_csv(r'C:\\Users\\AMADI DOMNIC U\\Desktop\\python\\data.csv')"
   ]
  },
  {
   "cell_type": "code",
   "execution_count": 4,
   "id": "a84b634e",
   "metadata": {},
   "outputs": [
    {
     "data": {
      "text/html": [
       "<div>\n",
       "<style scoped>\n",
       "    .dataframe tbody tr th:only-of-type {\n",
       "        vertical-align: middle;\n",
       "    }\n",
       "\n",
       "    .dataframe tbody tr th {\n",
       "        vertical-align: top;\n",
       "    }\n",
       "\n",
       "    .dataframe thead th {\n",
       "        text-align: right;\n",
       "    }\n",
       "</style>\n",
       "<table border=\"1\" class=\"dataframe\">\n",
       "  <thead>\n",
       "    <tr style=\"text-align: right;\">\n",
       "      <th></th>\n",
       "      <th>id</th>\n",
       "      <th>imdb_id</th>\n",
       "      <th>popularity</th>\n",
       "      <th>budget</th>\n",
       "      <th>revenue</th>\n",
       "      <th>original_title</th>\n",
       "      <th>cast</th>\n",
       "      <th>homepage</th>\n",
       "      <th>director</th>\n",
       "      <th>tagline</th>\n",
       "      <th>...</th>\n",
       "      <th>overview</th>\n",
       "      <th>runtime</th>\n",
       "      <th>genres</th>\n",
       "      <th>production_companies</th>\n",
       "      <th>release_date</th>\n",
       "      <th>vote_count</th>\n",
       "      <th>vote_average</th>\n",
       "      <th>release_year</th>\n",
       "      <th>budget_adj</th>\n",
       "      <th>revenue_adj</th>\n",
       "    </tr>\n",
       "  </thead>\n",
       "  <tbody>\n",
       "    <tr>\n",
       "      <th>0</th>\n",
       "      <td>135397</td>\n",
       "      <td>tt0369610</td>\n",
       "      <td>32.985763</td>\n",
       "      <td>150000000</td>\n",
       "      <td>1513528810</td>\n",
       "      <td>Jurassic World</td>\n",
       "      <td>Chris Pratt|Bryce Dallas Howard|Irrfan Khan|Vi...</td>\n",
       "      <td>http://www.jurassicworld.com/</td>\n",
       "      <td>Colin Trevorrow</td>\n",
       "      <td>The park is open.</td>\n",
       "      <td>...</td>\n",
       "      <td>Twenty-two years after the events of Jurassic ...</td>\n",
       "      <td>124</td>\n",
       "      <td>Action|Adventure|Science Fiction|Thriller</td>\n",
       "      <td>Universal Studios|Amblin Entertainment|Legenda...</td>\n",
       "      <td>6/9/15</td>\n",
       "      <td>5562</td>\n",
       "      <td>6.5</td>\n",
       "      <td>2015</td>\n",
       "      <td>1.379999e+08</td>\n",
       "      <td>1.392446e+09</td>\n",
       "    </tr>\n",
       "    <tr>\n",
       "      <th>1</th>\n",
       "      <td>76341</td>\n",
       "      <td>tt1392190</td>\n",
       "      <td>28.419936</td>\n",
       "      <td>150000000</td>\n",
       "      <td>378436354</td>\n",
       "      <td>Mad Max: Fury Road</td>\n",
       "      <td>Tom Hardy|Charlize Theron|Hugh Keays-Byrne|Nic...</td>\n",
       "      <td>http://www.madmaxmovie.com/</td>\n",
       "      <td>George Miller</td>\n",
       "      <td>What a Lovely Day.</td>\n",
       "      <td>...</td>\n",
       "      <td>An apocalyptic story set in the furthest reach...</td>\n",
       "      <td>120</td>\n",
       "      <td>Action|Adventure|Science Fiction|Thriller</td>\n",
       "      <td>Village Roadshow Pictures|Kennedy Miller Produ...</td>\n",
       "      <td>5/13/15</td>\n",
       "      <td>6185</td>\n",
       "      <td>7.1</td>\n",
       "      <td>2015</td>\n",
       "      <td>1.379999e+08</td>\n",
       "      <td>3.481613e+08</td>\n",
       "    </tr>\n",
       "  </tbody>\n",
       "</table>\n",
       "<p>2 rows × 21 columns</p>\n",
       "</div>"
      ],
      "text/plain": [
       "       id    imdb_id  popularity     budget     revenue      original_title  \\\n",
       "0  135397  tt0369610   32.985763  150000000  1513528810      Jurassic World   \n",
       "1   76341  tt1392190   28.419936  150000000   378436354  Mad Max: Fury Road   \n",
       "\n",
       "                                                cast  \\\n",
       "0  Chris Pratt|Bryce Dallas Howard|Irrfan Khan|Vi...   \n",
       "1  Tom Hardy|Charlize Theron|Hugh Keays-Byrne|Nic...   \n",
       "\n",
       "                        homepage         director             tagline  ...  \\\n",
       "0  http://www.jurassicworld.com/  Colin Trevorrow   The park is open.  ...   \n",
       "1    http://www.madmaxmovie.com/    George Miller  What a Lovely Day.  ...   \n",
       "\n",
       "                                            overview runtime  \\\n",
       "0  Twenty-two years after the events of Jurassic ...     124   \n",
       "1  An apocalyptic story set in the furthest reach...     120   \n",
       "\n",
       "                                      genres  \\\n",
       "0  Action|Adventure|Science Fiction|Thriller   \n",
       "1  Action|Adventure|Science Fiction|Thriller   \n",
       "\n",
       "                                production_companies release_date vote_count  \\\n",
       "0  Universal Studios|Amblin Entertainment|Legenda...       6/9/15       5562   \n",
       "1  Village Roadshow Pictures|Kennedy Miller Produ...      5/13/15       6185   \n",
       "\n",
       "   vote_average  release_year    budget_adj   revenue_adj  \n",
       "0           6.5          2015  1.379999e+08  1.392446e+09  \n",
       "1           7.1          2015  1.379999e+08  3.481613e+08  \n",
       "\n",
       "[2 rows x 21 columns]"
      ]
     },
     "execution_count": 4,
     "metadata": {},
     "output_type": "execute_result"
    }
   ],
   "source": [
    "data.head(2)"
   ]
  },
  {
   "cell_type": "code",
   "execution_count": 43,
   "id": "0e9aabe3",
   "metadata": {},
   "outputs": [
    {
     "data": {
      "text/html": [
       "<div>\n",
       "<style scoped>\n",
       "    .dataframe tbody tr th:only-of-type {\n",
       "        vertical-align: middle;\n",
       "    }\n",
       "\n",
       "    .dataframe tbody tr th {\n",
       "        vertical-align: top;\n",
       "    }\n",
       "\n",
       "    .dataframe thead th {\n",
       "        text-align: right;\n",
       "    }\n",
       "</style>\n",
       "<table border=\"1\" class=\"dataframe\">\n",
       "  <thead>\n",
       "    <tr style=\"text-align: right;\">\n",
       "      <th></th>\n",
       "      <th>id</th>\n",
       "      <th>popularity</th>\n",
       "      <th>budget</th>\n",
       "      <th>revenue</th>\n",
       "      <th>runtime</th>\n",
       "      <th>vote_count</th>\n",
       "      <th>vote_average</th>\n",
       "      <th>release_year</th>\n",
       "      <th>budget_adj</th>\n",
       "      <th>revenue_adj</th>\n",
       "    </tr>\n",
       "  </thead>\n",
       "  <tbody>\n",
       "    <tr>\n",
       "      <th>count</th>\n",
       "      <td>10866.000000</td>\n",
       "      <td>10866.000000</td>\n",
       "      <td>1.086600e+04</td>\n",
       "      <td>1.086600e+04</td>\n",
       "      <td>10866.000000</td>\n",
       "      <td>10866.000000</td>\n",
       "      <td>10866.000000</td>\n",
       "      <td>10866.000000</td>\n",
       "      <td>1.086600e+04</td>\n",
       "      <td>1.086600e+04</td>\n",
       "    </tr>\n",
       "    <tr>\n",
       "      <th>mean</th>\n",
       "      <td>66064.177434</td>\n",
       "      <td>0.646441</td>\n",
       "      <td>1.462570e+07</td>\n",
       "      <td>3.982332e+07</td>\n",
       "      <td>102.070863</td>\n",
       "      <td>217.389748</td>\n",
       "      <td>5.974922</td>\n",
       "      <td>2001.322658</td>\n",
       "      <td>1.755104e+07</td>\n",
       "      <td>5.136436e+07</td>\n",
       "    </tr>\n",
       "    <tr>\n",
       "      <th>std</th>\n",
       "      <td>92130.136561</td>\n",
       "      <td>1.000185</td>\n",
       "      <td>3.091321e+07</td>\n",
       "      <td>1.170035e+08</td>\n",
       "      <td>31.381405</td>\n",
       "      <td>575.619058</td>\n",
       "      <td>0.935142</td>\n",
       "      <td>12.812941</td>\n",
       "      <td>3.430616e+07</td>\n",
       "      <td>1.446325e+08</td>\n",
       "    </tr>\n",
       "    <tr>\n",
       "      <th>min</th>\n",
       "      <td>5.000000</td>\n",
       "      <td>0.000065</td>\n",
       "      <td>0.000000e+00</td>\n",
       "      <td>0.000000e+00</td>\n",
       "      <td>0.000000</td>\n",
       "      <td>10.000000</td>\n",
       "      <td>1.500000</td>\n",
       "      <td>1960.000000</td>\n",
       "      <td>0.000000e+00</td>\n",
       "      <td>0.000000e+00</td>\n",
       "    </tr>\n",
       "    <tr>\n",
       "      <th>25%</th>\n",
       "      <td>10596.250000</td>\n",
       "      <td>0.207583</td>\n",
       "      <td>0.000000e+00</td>\n",
       "      <td>0.000000e+00</td>\n",
       "      <td>90.000000</td>\n",
       "      <td>17.000000</td>\n",
       "      <td>5.400000</td>\n",
       "      <td>1995.000000</td>\n",
       "      <td>0.000000e+00</td>\n",
       "      <td>0.000000e+00</td>\n",
       "    </tr>\n",
       "    <tr>\n",
       "      <th>50%</th>\n",
       "      <td>20669.000000</td>\n",
       "      <td>0.383856</td>\n",
       "      <td>0.000000e+00</td>\n",
       "      <td>0.000000e+00</td>\n",
       "      <td>99.000000</td>\n",
       "      <td>38.000000</td>\n",
       "      <td>6.000000</td>\n",
       "      <td>2006.000000</td>\n",
       "      <td>0.000000e+00</td>\n",
       "      <td>0.000000e+00</td>\n",
       "    </tr>\n",
       "    <tr>\n",
       "      <th>75%</th>\n",
       "      <td>75610.000000</td>\n",
       "      <td>0.713817</td>\n",
       "      <td>1.500000e+07</td>\n",
       "      <td>2.400000e+07</td>\n",
       "      <td>111.000000</td>\n",
       "      <td>145.750000</td>\n",
       "      <td>6.600000</td>\n",
       "      <td>2011.000000</td>\n",
       "      <td>2.085325e+07</td>\n",
       "      <td>3.369710e+07</td>\n",
       "    </tr>\n",
       "    <tr>\n",
       "      <th>max</th>\n",
       "      <td>417859.000000</td>\n",
       "      <td>32.985763</td>\n",
       "      <td>4.250000e+08</td>\n",
       "      <td>2.781506e+09</td>\n",
       "      <td>900.000000</td>\n",
       "      <td>9767.000000</td>\n",
       "      <td>9.200000</td>\n",
       "      <td>2015.000000</td>\n",
       "      <td>4.250000e+08</td>\n",
       "      <td>2.827124e+09</td>\n",
       "    </tr>\n",
       "  </tbody>\n",
       "</table>\n",
       "</div>"
      ],
      "text/plain": [
       "                  id    popularity        budget       revenue       runtime  \\\n",
       "count   10866.000000  10866.000000  1.086600e+04  1.086600e+04  10866.000000   \n",
       "mean    66064.177434      0.646441  1.462570e+07  3.982332e+07    102.070863   \n",
       "std     92130.136561      1.000185  3.091321e+07  1.170035e+08     31.381405   \n",
       "min         5.000000      0.000065  0.000000e+00  0.000000e+00      0.000000   \n",
       "25%     10596.250000      0.207583  0.000000e+00  0.000000e+00     90.000000   \n",
       "50%     20669.000000      0.383856  0.000000e+00  0.000000e+00     99.000000   \n",
       "75%     75610.000000      0.713817  1.500000e+07  2.400000e+07    111.000000   \n",
       "max    417859.000000     32.985763  4.250000e+08  2.781506e+09    900.000000   \n",
       "\n",
       "         vote_count  vote_average  release_year    budget_adj   revenue_adj  \n",
       "count  10866.000000  10866.000000  10866.000000  1.086600e+04  1.086600e+04  \n",
       "mean     217.389748      5.974922   2001.322658  1.755104e+07  5.136436e+07  \n",
       "std      575.619058      0.935142     12.812941  3.430616e+07  1.446325e+08  \n",
       "min       10.000000      1.500000   1960.000000  0.000000e+00  0.000000e+00  \n",
       "25%       17.000000      5.400000   1995.000000  0.000000e+00  0.000000e+00  \n",
       "50%       38.000000      6.000000   2006.000000  0.000000e+00  0.000000e+00  \n",
       "75%      145.750000      6.600000   2011.000000  2.085325e+07  3.369710e+07  \n",
       "max     9767.000000      9.200000   2015.000000  4.250000e+08  2.827124e+09  "
      ]
     },
     "execution_count": 43,
     "metadata": {},
     "output_type": "execute_result"
    }
   ],
   "source": [
    "#no 1 answer\n",
    "\n",
    "data.describe()"
   ]
  },
  {
   "cell_type": "code",
   "execution_count": 47,
   "id": "d3d6f3fb",
   "metadata": {},
   "outputs": [
    {
     "data": {
      "text/html": [
       "<div>\n",
       "<style scoped>\n",
       "    .dataframe tbody tr th:only-of-type {\n",
       "        vertical-align: middle;\n",
       "    }\n",
       "\n",
       "    .dataframe tbody tr th {\n",
       "        vertical-align: top;\n",
       "    }\n",
       "\n",
       "    .dataframe thead th {\n",
       "        text-align: right;\n",
       "    }\n",
       "</style>\n",
       "<table border=\"1\" class=\"dataframe\">\n",
       "  <thead>\n",
       "    <tr style=\"text-align: right;\">\n",
       "      <th></th>\n",
       "      <th>original_title</th>\n",
       "      <th>revenue</th>\n",
       "    </tr>\n",
       "  </thead>\n",
       "  <tbody>\n",
       "    <tr>\n",
       "      <th>1386</th>\n",
       "      <td>Avatar</td>\n",
       "      <td>2781505847</td>\n",
       "    </tr>\n",
       "    <tr>\n",
       "      <th>3</th>\n",
       "      <td>Star Wars: The Force Awakens</td>\n",
       "      <td>2068178225</td>\n",
       "    </tr>\n",
       "    <tr>\n",
       "      <th>5231</th>\n",
       "      <td>Titanic</td>\n",
       "      <td>1845034188</td>\n",
       "    </tr>\n",
       "    <tr>\n",
       "      <th>4361</th>\n",
       "      <td>The Avengers</td>\n",
       "      <td>1519557910</td>\n",
       "    </tr>\n",
       "    <tr>\n",
       "      <th>0</th>\n",
       "      <td>Jurassic World</td>\n",
       "      <td>1513528810</td>\n",
       "    </tr>\n",
       "    <tr>\n",
       "      <th>4</th>\n",
       "      <td>Furious 7</td>\n",
       "      <td>1506249360</td>\n",
       "    </tr>\n",
       "    <tr>\n",
       "      <th>14</th>\n",
       "      <td>Avengers: Age of Ultron</td>\n",
       "      <td>1405035767</td>\n",
       "    </tr>\n",
       "    <tr>\n",
       "      <th>3374</th>\n",
       "      <td>Harry Potter and the Deathly Hallows: Part 2</td>\n",
       "      <td>1327817822</td>\n",
       "    </tr>\n",
       "    <tr>\n",
       "      <th>5422</th>\n",
       "      <td>Frozen</td>\n",
       "      <td>1274219009</td>\n",
       "    </tr>\n",
       "    <tr>\n",
       "      <th>5425</th>\n",
       "      <td>Iron Man 3</td>\n",
       "      <td>1215439994</td>\n",
       "    </tr>\n",
       "  </tbody>\n",
       "</table>\n",
       "</div>"
      ],
      "text/plain": [
       "                                    original_title     revenue\n",
       "1386                                        Avatar  2781505847\n",
       "3                     Star Wars: The Force Awakens  2068178225\n",
       "5231                                       Titanic  1845034188\n",
       "4361                                  The Avengers  1519557910\n",
       "0                                   Jurassic World  1513528810\n",
       "4                                        Furious 7  1506249360\n",
       "14                         Avengers: Age of Ultron  1405035767\n",
       "3374  Harry Potter and the Deathly Hallows: Part 2  1327817822\n",
       "5422                                        Frozen  1274219009\n",
       "5425                                    Iron Man 3  1215439994"
      ]
     },
     "execution_count": 47,
     "metadata": {},
     "output_type": "execute_result"
    }
   ],
   "source": [
    "#no 2 answer\n",
    "\n",
    "data.sort_values('revenue', ascending=False)[['original_title', 'revenue']].head(10) "
   ]
  },
  {
   "cell_type": "code",
   "execution_count": null,
   "id": "622473b5",
   "metadata": {},
   "outputs": [],
   "source": [
    "#no 3 answer\n"
   ]
  },
  {
   "cell_type": "code",
   "execution_count": 54,
   "id": "66c95e00",
   "metadata": {},
   "outputs": [
    {
     "data": {
      "text/plain": [
       "cast\n",
       "Louis C.K.                                                                  6\n",
       "William Shatner|Leonard Nimoy|DeForest Kelley|James Doohan|George Takei     5\n",
       "Bill Burr                                                                   4\n",
       "Pierre Coffin                                                               3\n",
       "Zac Efron|Vanessa Hudgens|Ashley Tisdale|Lucas Grabeel|Corbin Bleu          3\n",
       "Elijah Wood|Ian McKellen|Viggo Mortensen|Liv Tyler|Orlando Bloom            3\n",
       "George Carlin                                                               3\n",
       "Chris Wedge                                                                 3\n",
       "Aziz Ansari                                                                 3\n",
       "Sylvester Stallone|Talia Shire|Burt Young|Carl Weathers|Burgess Meredith    3\n",
       "dtype: int64"
      ]
     },
     "execution_count": 54,
     "metadata": {},
     "output_type": "execute_result"
    }
   ],
   "source": [
    "#no 4 answer\n",
    "\n",
    "data.value_counts('cast').head(10)"
   ]
  },
  {
   "cell_type": "code",
   "execution_count": 55,
   "id": "4daf783d",
   "metadata": {},
   "outputs": [
    {
     "data": {
      "text/plain": [
       "genres\n",
       "Comedy                  712\n",
       "Drama                   712\n",
       "Documentary             312\n",
       "Drama|Romance           289\n",
       "Comedy|Drama            280\n",
       "Comedy|Romance          268\n",
       "Horror|Thriller         259\n",
       "Horror                  253\n",
       "Comedy|Drama|Romance    222\n",
       "Drama|Thriller          138\n",
       "dtype: int64"
      ]
     },
     "execution_count": 55,
     "metadata": {},
     "output_type": "execute_result"
    }
   ],
   "source": [
    "#no 5 answer\n",
    "\n",
    "data.value_counts('genres').head(10)"
   ]
  },
  {
   "cell_type": "code",
   "execution_count": 57,
   "id": "0f80215f",
   "metadata": {},
   "outputs": [
    {
     "data": {
      "text/plain": [
       "production_companies\n",
       "Paramount Pictures                        156\n",
       "Universal Pictures                        133\n",
       "Warner Bros.                               84\n",
       "Walt Disney Pictures                       76\n",
       "Metro-Goldwyn-Mayer (MGM)                  72\n",
       "Columbia Pictures                          72\n",
       "New Line Cinema                            61\n",
       "Touchstone Pictures                        51\n",
       "20th Century Fox                           50\n",
       "Twentieth Century Fox Film Corporation     49\n",
       "dtype: int64"
      ]
     },
     "execution_count": 57,
     "metadata": {},
     "output_type": "execute_result"
    }
   ],
   "source": [
    "#no 6 answer\n",
    "\n",
    "data.value_counts('production_companies').head(10)"
   ]
  },
  {
   "cell_type": "code",
   "execution_count": 59,
   "id": "ef11254b",
   "metadata": {},
   "outputs": [
    {
     "data": {
      "text/plain": [
       "director\n",
       "Woody Allen          45\n",
       "Clint Eastwood       34\n",
       "Steven Spielberg     29\n",
       "Martin Scorsese      29\n",
       "Ridley Scott         23\n",
       "Steven Soderbergh    22\n",
       "Ron Howard           22\n",
       "Joel Schumacher      21\n",
       "Brian De Palma       20\n",
       "Wes Craven           19\n",
       "dtype: int64"
      ]
     },
     "execution_count": 59,
     "metadata": {},
     "output_type": "execute_result"
    }
   ],
   "source": [
    "#no 7 answer\n",
    "\n",
    "data.value_counts('director').head(10)"
   ]
  },
  {
   "cell_type": "code",
   "execution_count": 16,
   "id": "0627e4e7",
   "metadata": {},
   "outputs": [],
   "source": [
    "#no 8 answer"
   ]
  },
  {
   "cell_type": "code",
   "execution_count": 70,
   "id": "9a248aa3",
   "metadata": {},
   "outputs": [
    {
     "data": {
      "text/plain": [
       "10571"
      ]
     },
     "execution_count": 70,
     "metadata": {},
     "output_type": "execute_result"
    }
   ],
   "source": [
    "#no 9 answer\n",
    "\n",
    "data['original_title'].nunique()"
   ]
  },
  {
   "cell_type": "code",
   "execution_count": 62,
   "id": "422f6ca3",
   "metadata": {},
   "outputs": [],
   "source": [
    "#no 10 answer"
   ]
  },
  {
   "cell_type": "code",
   "execution_count": null,
   "id": "4e87f1e1",
   "metadata": {},
   "outputs": [],
   "source": []
  },
  {
   "cell_type": "code",
   "execution_count": null,
   "id": "ce59c3f8",
   "metadata": {},
   "outputs": [],
   "source": []
  }
 ],
 "metadata": {
  "kernelspec": {
   "display_name": "Python 3 (ipykernel)",
   "language": "python",
   "name": "python3"
  },
  "language_info": {
   "codemirror_mode": {
    "name": "ipython",
    "version": 3
   },
   "file_extension": ".py",
   "mimetype": "text/x-python",
   "name": "python",
   "nbconvert_exporter": "python",
   "pygments_lexer": "ipython3",
   "version": "3.9.13"
  }
 },
 "nbformat": 4,
 "nbformat_minor": 5
}
